{
 "cells": [
  {
   "cell_type": "markdown",
   "metadata": {},
   "source": [
    "Л1.1 Побудуйте гiстограму частот появи лiтер в текстi."
   ]
  },
  {
   "cell_type": "code",
   "execution_count": 1,
   "metadata": {},
   "outputs": [],
   "source": [
    "import matplotlib.pyplot as plt\n",
    "import numpy as np"
   ]
  },
  {
   "cell_type": "code",
   "execution_count": 2,
   "metadata": {},
   "outputs": [],
   "source": [
    "def alphabet():\n",
    "    ans = {}\n",
    "    for letter in range(ord('а'), ord('я')+1):\n",
    "        ans[chr(letter)] = 0\n",
    "        if chr(letter) == 'и':\n",
    "            ans['і'] = 0\n",
    "            ans['ї'] = 0\n",
    "        if chr(letter) == 'г':\n",
    "            ans['ґ'] = 0\n",
    "        if chr(letter) == 'е':\n",
    "            ans['є'] = 0\n",
    "    ans.pop('э')\n",
    "    ans.pop('ъ')\n",
    "    ans.pop('ы')\n",
    "    return ans, 33"
   ]
  },
  {
   "cell_type": "code",
   "execution_count": 3,
   "metadata": {},
   "outputs": [],
   "source": [
    "#alphabet()"
   ]
  },
  {
   "cell_type": "code",
   "execution_count": 4,
   "metadata": {},
   "outputs": [],
   "source": [
    "def frequency(text):\n",
    "    freq,n = alphabet()\n",
    "    for el in text:\n",
    "        if el.isalpha():\n",
    "            try:\n",
    "                freq[el.lower()] += 1\n",
    "            except:\n",
    "                pass\n",
    "    return freq,n"
   ]
  },
  {
   "cell_type": "code",
   "execution_count": 5,
   "metadata": {},
   "outputs": [],
   "source": [
    "def plot_text(filename = \"text.txt\"):\n",
    "    f = open(filename, 'r', encoding = 'utf-8')\n",
    "    text = f.read()\n",
    "    #print(len(text))\n",
    "    freq,n = frequency(text)\n",
    "    names = freq.keys()\n",
    "    values = freq.values()\n",
    "    plt.bar(names, values)\n",
    "    plt.xlabel('Letters')\n",
    "    plt.ylabel('Frequency')\n",
    "    return freq"
   ]
  },
  {
   "cell_type": "code",
   "execution_count": 6,
   "metadata": {},
   "outputs": [
    {
     "data": {
      "image/png": "[encoded data removed]",
      "text/plain": [
       "<Figure size 432x288 with 1 Axes>"
      ]
     },
     "metadata": {
      "needs_background": "light"
     },
     "output_type": "display_data"
    }
   ],
   "source": [
    "freq = plot_text()"
   ]
  },
  {
   "cell_type": "code",
   "execution_count": 7,
   "metadata": {},
   "outputs": [
    {
     "data": {
      "text/plain": [
       "{'а': 12374,\n",
       " 'б': 2665,\n",
       " 'в': 7800,\n",
       " 'г': 2396,\n",
       " 'ґ': 10,\n",
       " 'д': 4490,\n",
       " 'е': 6637,\n",
       " 'є': 631,\n",
       " 'ж': 1150,\n",
       " 'з': 3463,\n",
       " 'и': 8619,\n",
       " 'і': 8672,\n",
       " 'ї': 1181,\n",
       " 'й': 1801,\n",
       " 'к': 5020,\n",
       " 'л': 5571,\n",
       " 'м': 3933,\n",
       " 'н': 10313,\n",
       " 'о': 13315,\n",
       " 'п': 4521,\n",
       " 'р': 7373,\n",
       " 'с': 6523,\n",
       " 'т': 7131,\n",
       " 'у': 4931,\n",
       " 'ф': 339,\n",
       " 'х': 1755,\n",
       " 'ц': 1206,\n",
       " 'ч': 1816,\n",
       " 'ш': 1109,\n",
       " 'щ': 672,\n",
       " 'ь': 2669,\n",
       " 'ю': 1043,\n",
       " 'я': 3528}"
      ]
     },
     "execution_count": 7,
     "metadata": {},
     "output_type": "execute_result"
    }
   ],
   "source": [
    "freq"
   ]
  },
  {
   "cell_type": "markdown",
   "metadata": {},
   "source": [
    "Л1.2 Реалiзуйте алгоритм шифрування Вiженера."
   ]
  },
  {
   "cell_type": "code",
   "execution_count": 8,
   "metadata": {},
   "outputs": [],
   "source": [
    "def rev_abc():\n",
    "    abc,n = alphabet()\n",
    "    letters = abc.keys()\n",
    "    i = 0\n",
    "    abc_rev = {}\n",
    "    for el in letters:\n",
    "        abc_rev[i] = el\n",
    "        abc[el] = i\n",
    "        i += 1\n",
    "    #print('abc',abc,'\\nabc_rev',abc_rev)\n",
    "    return abc,abc_rev,n"
   ]
  },
  {
   "cell_type": "code",
   "execution_count": null,
   "metadata": {},
   "outputs": [],
   "source": []
  },
  {
   "cell_type": "code",
   "execution_count": 9,
   "metadata": {},
   "outputs": [],
   "source": [
    "def add(first, second):\n",
    "    '''first, second are letters'''\n",
    "    abc, abc_rev,n = rev_abc()\n",
    "    num1 = abc[first]\n",
    "    num2 = abc[second]\n",
    "    return abc_rev[(num1 + num2)%n]"
   ]
  },
  {
   "cell_type": "code",
   "execution_count": 10,
   "metadata": {},
   "outputs": [],
   "source": [
    "def clean_text(text):\n",
    "    abc, n = alphabet()\n",
    "    #print('ф' in list(abc.keys()))\n",
    "    cleaned = ''\n",
    "    for el in text:\n",
    "        #print(el)\n",
    "        if el.isalpha() and el.lower() in list(abc.keys()):\n",
    "            cleaned += el.lower()\n",
    "    return cleaned"
   ]
  },
  {
   "cell_type": "code",
   "execution_count": 11,
   "metadata": {},
   "outputs": [],
   "source": [
    "def vigenere(text, key):\n",
    "    m = len(key)\n",
    "    text = clean_text(text)\n",
    "    n = len(text)\n",
    "    \n",
    "    cipher = ''\n",
    "    addent = key * (n//m) + key[:(n%m)]\n",
    "    #print(len(addent) == n)\n",
    "    for i in range(n):\n",
    "        cipher += add(text[i], addent[i])\n",
    "    return cipher"
   ]
  },
  {
   "cell_type": "code",
   "execution_count": 12,
   "metadata": {},
   "outputs": [],
   "source": [
    "#cipher"
   ]
  },
  {
   "cell_type": "code",
   "execution_count": 13,
   "metadata": {},
   "outputs": [],
   "source": [
    "def sub(first, second):\n",
    "    '''first, second are letters'''\n",
    "    abc, abc_rev,n = rev_abc()\n",
    "    num1 = abc[first]\n",
    "    num2 = abc[second]\n",
    "    return abc_rev[(num1 - num2 + n)%n]"
   ]
  },
  {
   "cell_type": "code",
   "execution_count": 37,
   "metadata": {},
   "outputs": [],
   "source": [
    "def decryption(cipher, key):\n",
    "    m = len(key)\n",
    "    n = len(cipher)\n",
    "    text = ''\n",
    "    subtr = key * (n//m) + key[:(n%m)]\n",
    "    for i in range(n):\n",
    "        text += sub(cipher[i], subtr[i])\n",
    "    return text"
   ]
  },
  {
   "cell_type": "code",
   "execution_count": 15,
   "metadata": {},
   "outputs": [],
   "source": [
    "#decryption(cipher, key) "
   ]
  },
  {
   "cell_type": "markdown",
   "metadata": {},
   "source": [
    "Л1.3 Проведiть криптоаналiз шифру Вiженера i розшифруйте запропонований крипто-\n",
    "текст, не знаючи секретного ключа."
   ]
  },
  {
   "cell_type": "code",
   "execution_count": 101,
   "metadata": {},
   "outputs": [],
   "source": [
    "def index_of_coincidence(freq):\n",
    "    ic = {}\n",
    "    n = sum(freq.values())\n",
    "    #print(freq)\n",
    "    for letter  in freq.keys():\n",
    "        try:\n",
    "            ic[letter] = (freq[letter]*(freq[letter]-1))/(n*(n-1))\n",
    "        #print(freq[letter])\n",
    "        except:\n",
    "            pass\n",
    "    return ic"
   ]
  },
  {
   "cell_type": "code",
   "execution_count": 93,
   "metadata": {},
   "outputs": [
    {
     "name": "stdout",
     "output_type": "stream",
     "text": [
      "144657\n"
     ]
    },
    {
     "data": {
      "text/plain": [
       "<BarContainer object of 33 artists>"
      ]
     },
     "execution_count": 93,
     "metadata": {},
     "output_type": "execute_result"
    },
    {
     "data": {
      "image/png": "[encoded data removed]",
      "text/plain": [
       "<Figure size 432x288 with 1 Axes>"
      ]
     },
     "metadata": {
      "needs_background": "light"
     },
     "output_type": "display_data"
    }
   ],
   "source": [
    "#print(type(freq))\n",
    "freq1 = index_of_coincidence(freq)\n",
    "names = freq1.keys()\n",
    "values = freq1.values()\n",
    "plt.bar(names, values)\n",
    "\n",
    "\n",
    "#freq1"
   ]
  },
  {
   "cell_type": "code",
   "execution_count": 72,
   "metadata": {},
   "outputs": [],
   "source": [
    "def split_text(text,k):\n",
    "    slices = []\n",
    "    for i in range(k):\n",
    "        slices.append(text[i::k])\n",
    "    return slices"
   ]
  },
  {
   "cell_type": "code",
   "execution_count": 81,
   "metadata": {},
   "outputs": [],
   "source": [
    "def find_len(text):\n",
    "    ics = []\n",
    "    min_len = 5\n",
    "    max_len = 20\n",
    "    for i in range(min_len, max_len + 1):\n",
    "        split__text = split_text(text,i)\n",
    "        ic_slices = []\n",
    "        for el in split__text:\n",
    "            \n",
    "            ic_slices.append(sum(index_of_coincidence(frequency(el)[0]).values()))\n",
    "        ics.append(np.mean(ic_slices))  \n",
    "    lens = []\n",
    "    for i in range(4):\n",
    "        lens.append(ics.index(max(ics)) + min_len)\n",
    "        ics[lens[-1] - min_len] = 0\n",
    "\n",
    "    return lens"
   ]
  },
  {
   "cell_type": "code",
   "execution_count": 82,
   "metadata": {},
   "outputs": [],
   "source": [
    "\n",
    "f = open('franko.txt', 'r', encoding = 'utf-8')\n",
    "text = f.read()\n",
    "key='життя'\n",
    "cipher = vigenere(text, key)"
   ]
  },
  {
   "cell_type": "code",
   "execution_count": 83,
   "metadata": {},
   "outputs": [
    {
     "data": {
      "text/plain": [
       "[20, 10, 5, 15]"
      ]
     },
     "execution_count": 83,
     "metadata": {},
     "output_type": "execute_result"
    }
   ],
   "source": [
    "find_len(cipher)"
   ]
  },
  {
   "cell_type": "code",
   "execution_count": 84,
   "metadata": {},
   "outputs": [],
   "source": [
    "def expected_freq(length):\n",
    "    f = open('text.txt', 'r', encoding = 'utf-8')\n",
    "    text = f.read()\n",
    "    #print(len(text))\n",
    "    freq,n = frequency(text)\n",
    "    ans = {}\n",
    "    for el in freq.keys():\n",
    "        ans[el] = freq[el]*length / len(text)\n",
    "    #print(\"aaaaaaaaaaaa\",ans)\n",
    "    return ans"
   ]
  },
  {
   "cell_type": "code",
   "execution_count": 85,
   "metadata": {},
   "outputs": [],
   "source": [
    "def chi_stat(text, expectation):\n",
    "    ans = 0\n",
    "    f, n = frequency(text)\n",
    "    for letter in f.keys():\n",
    "        ans += ((f[letter] - expectation[letter])**2)/expectation[letter]\n",
    "    return ans"
   ]
  },
  {
   "cell_type": "code",
   "execution_count": 86,
   "metadata": {},
   "outputs": [],
   "source": [
    "def break_caesar(text):\n",
    "    expectation = expected_freq(len(text))\n",
    "    abc, n = alphabet()\n",
    "    #print(f)\n",
    "    #print(expectation)\n",
    "    all_chi = {}\n",
    "    for letter in abc.keys():\n",
    "        #print(expectation[letter],f[letter])\n",
    "        all_chi[letter] = chi_stat(decryption(text, letter), expectation)\n",
    "    #print(\"chi\", all_chi)\n",
    "    min_chi = all_chi['а']\n",
    "    ans = 'а'\n",
    "    for letter in abc.keys():\n",
    "        #print(letter)\n",
    "        if all_chi[letter] < min_chi:\n",
    "            min_chi = all_chi[letter]\n",
    "            ans = letter\n",
    "    #print('chi',all_chi)\n",
    "    return ans #all_chi"
   ]
  },
  {
   "cell_type": "code",
   "execution_count": 87,
   "metadata": {},
   "outputs": [],
   "source": [
    "expectation,n = frequency(text)\n",
    "f = open(\"franko.txt\",encoding = 'utf-8')\n",
    "textf = f.read()\n",
    "text1 = clean_text(textf)\n",
    "abc, n = alphabet()\n",
    "acuracy = 0\n",
    "for key in abc.keys():\n",
    "    text2 = vigenere(text1, key)\n",
    "    #print(text2)\n",
    "    if break_caesar(text2) == key:\n",
    "        acuracy += 1\n",
    "    else:\n",
    "        print(key)"
   ]
  },
  {
   "cell_type": "code",
   "execution_count": 88,
   "metadata": {},
   "outputs": [
    {
     "data": {
      "text/plain": [
       "33"
      ]
     },
     "execution_count": 88,
     "metadata": {},
     "output_type": "execute_result"
    }
   ],
   "source": [
    "acuracy"
   ]
  },
  {
   "cell_type": "code",
   "execution_count": null,
   "metadata": {},
   "outputs": [],
   "source": []
  },
  {
   "cell_type": "code",
   "execution_count": 89,
   "metadata": {},
   "outputs": [],
   "source": [
    "def crack_code(cipher):\n",
    "    lens = find_len(cipher)\n",
    "    #print(lens)\n",
    "    l = min(lens)\n",
    "    key = ''\n",
    "\n",
    "    slices = split_text(cipher,l)\n",
    "    #print(slices[1] == slices[0])\n",
    "    for el in slices:\n",
    "        key += break_caesar(el)\n",
    "        #print()\n",
    "    return key\n",
    "    \n",
    "    \n",
    "    "
   ]
  },
  {
   "cell_type": "code",
   "execution_count": 77,
   "metadata": {},
   "outputs": [
    {
     "data": {
      "text/plain": [
       "'романтика'"
      ]
     },
     "execution_count": 77,
     "metadata": {},
     "output_type": "execute_result"
    }
   ],
   "source": [
    "fin = open('final.txt',encoding = 'utf-8')\n",
    "t = fin.read()\n",
    "cleaned = clean_text(t)\n",
    "cipherrr = vigenere(cleaned, 'романтика')\n",
    "#t\n",
    "crack_code(cipherrr)"
   ]
  },
  {
   "cell_type": "code",
   "execution_count": 67,
   "metadata": {},
   "outputs": [],
   "source": [
    "#expectation"
   ]
  },
  {
   "cell_type": "code",
   "execution_count": 102,
   "metadata": {},
   "outputs": [
    {
     "data": {
      "text/plain": [
       "'яблуня'"
      ]
     },
     "execution_count": 102,
     "metadata": {},
     "output_type": "execute_result"
    }
   ],
   "source": [
    "fin2 = open('apple.txt',encoding = 'utf-8')\n",
    "t2 = fin2.read()\n",
    "cleaned2 = clean_text(t2)\n",
    "cipherrr2 = vigenere(cleaned2, 'яблуня')\n",
    "#t\n",
    "crack_code(cipherrr2)"
   ]
  },
  {
   "cell_type": "code",
   "execution_count": null,
   "metadata": {},
   "outputs": [],
   "source": []
  }
 ],
 "metadata": {
  "kernelspec": {
   "display_name": "Python 3 (ipykernel)",
   "language": "python",
   "name": "python3"
  },
  "language_info": {
   "codemirror_mode": {
    "name": "ipython",
    "version": 3
   },
   "file_extension": ".py",
   "mimetype": "text/x-python",
   "name": "python",
   "nbconvert_exporter": "python",
   "pygments_lexer": "ipython3",
   "version": "3.9.7"
  }
 },
 "nbformat": 4,
 "nbformat_minor": 4
}
